{
 "cells": [
  {
   "cell_type": "markdown",
   "metadata": {},
   "source": [
    "# Loading and Manipulating Data\n",
    "\n"
   ]
  },
  {
   "cell_type": "code",
   "execution_count": 1,
   "metadata": {},
   "outputs": [],
   "source": [
    "import sys\n",
    "sys.path.append(\"..\")"
   ]
  },
  {
   "cell_type": "code",
   "execution_count": 2,
   "metadata": {},
   "outputs": [
    {
     "data": {
      "text/html": [
       "<div>\n",
       "<style scoped>\n",
       "    .dataframe tbody tr th:only-of-type {\n",
       "        vertical-align: middle;\n",
       "    }\n",
       "\n",
       "    .dataframe tbody tr th {\n",
       "        vertical-align: top;\n",
       "    }\n",
       "\n",
       "    .dataframe thead th {\n",
       "        text-align: right;\n",
       "    }\n",
       "</style>\n",
       "<table border=\"1\" class=\"dataframe\">\n",
       "  <thead>\n",
       "    <tr style=\"text-align: right;\">\n",
       "      <th></th>\n",
       "      <th>Halo</th>\n",
       "      <th>Snapshot</th>\n",
       "      <th>RadialBin</th>\n",
       "      <th>Resolution</th>\n",
       "      <th>Density</th>\n",
       "      <th>ID</th>\n",
       "      <th>Status</th>\n",
       "      <th>Radius</th>\n",
       "      <th>Mass</th>\n",
       "    </tr>\n",
       "  </thead>\n",
       "  <tbody>\n",
       "    <tr>\n",
       "      <th>0</th>\n",
       "      <td>850045</td>\n",
       "      <td>0</td>\n",
       "      <td>0</td>\n",
       "      <td>1</td>\n",
       "      <td>0.248233</td>\n",
       "      <td>1021286</td>\n",
       "      <td>1</td>\n",
       "      <td>0.399642</td>\n",
       "      <td>0.076698</td>\n",
       "    </tr>\n",
       "    <tr>\n",
       "      <th>1</th>\n",
       "      <td>850045</td>\n",
       "      <td>0</td>\n",
       "      <td>1</td>\n",
       "      <td>1</td>\n",
       "      <td>0.458954</td>\n",
       "      <td>1021286</td>\n",
       "      <td>1</td>\n",
       "      <td>0.399642</td>\n",
       "      <td>0.076698</td>\n",
       "    </tr>\n",
       "    <tr>\n",
       "      <th>2</th>\n",
       "      <td>850045</td>\n",
       "      <td>0</td>\n",
       "      <td>2</td>\n",
       "      <td>1</td>\n",
       "      <td>0.040462</td>\n",
       "      <td>1021286</td>\n",
       "      <td>1</td>\n",
       "      <td>0.399642</td>\n",
       "      <td>0.076698</td>\n",
       "    </tr>\n",
       "    <tr>\n",
       "      <th>3</th>\n",
       "      <td>850045</td>\n",
       "      <td>0</td>\n",
       "      <td>3</td>\n",
       "      <td>1</td>\n",
       "      <td>0.483019</td>\n",
       "      <td>1021286</td>\n",
       "      <td>1</td>\n",
       "      <td>0.399642</td>\n",
       "      <td>0.076698</td>\n",
       "    </tr>\n",
       "    <tr>\n",
       "      <th>4</th>\n",
       "      <td>850045</td>\n",
       "      <td>0</td>\n",
       "      <td>4</td>\n",
       "      <td>1</td>\n",
       "      <td>0.443710</td>\n",
       "      <td>1021286</td>\n",
       "      <td>1</td>\n",
       "      <td>0.399642</td>\n",
       "      <td>0.076698</td>\n",
       "    </tr>\n",
       "    <tr>\n",
       "      <th>...</th>\n",
       "      <td>...</td>\n",
       "      <td>...</td>\n",
       "      <td>...</td>\n",
       "      <td>...</td>\n",
       "      <td>...</td>\n",
       "      <td>...</td>\n",
       "      <td>...</td>\n",
       "      <td>...</td>\n",
       "      <td>...</td>\n",
       "    </tr>\n",
       "    <tr>\n",
       "      <th>2279995</th>\n",
       "      <td>740109</td>\n",
       "      <td>2</td>\n",
       "      <td>75</td>\n",
       "      <td>2</td>\n",
       "      <td>0.096223</td>\n",
       "      <td>1919259</td>\n",
       "      <td>0</td>\n",
       "      <td>0.219847</td>\n",
       "      <td>0.027083</td>\n",
       "    </tr>\n",
       "    <tr>\n",
       "      <th>2279996</th>\n",
       "      <td>740109</td>\n",
       "      <td>2</td>\n",
       "      <td>76</td>\n",
       "      <td>2</td>\n",
       "      <td>0.659574</td>\n",
       "      <td>1919259</td>\n",
       "      <td>0</td>\n",
       "      <td>0.219847</td>\n",
       "      <td>0.027083</td>\n",
       "    </tr>\n",
       "    <tr>\n",
       "      <th>2279997</th>\n",
       "      <td>740109</td>\n",
       "      <td>2</td>\n",
       "      <td>77</td>\n",
       "      <td>2</td>\n",
       "      <td>0.303761</td>\n",
       "      <td>1919259</td>\n",
       "      <td>0</td>\n",
       "      <td>0.219847</td>\n",
       "      <td>0.027083</td>\n",
       "    </tr>\n",
       "    <tr>\n",
       "      <th>2279998</th>\n",
       "      <td>740109</td>\n",
       "      <td>2</td>\n",
       "      <td>78</td>\n",
       "      <td>2</td>\n",
       "      <td>0.107028</td>\n",
       "      <td>1919259</td>\n",
       "      <td>0</td>\n",
       "      <td>0.219847</td>\n",
       "      <td>0.027083</td>\n",
       "    </tr>\n",
       "    <tr>\n",
       "      <th>2279999</th>\n",
       "      <td>740109</td>\n",
       "      <td>2</td>\n",
       "      <td>79</td>\n",
       "      <td>2</td>\n",
       "      <td>0.376159</td>\n",
       "      <td>1919259</td>\n",
       "      <td>0</td>\n",
       "      <td>0.219847</td>\n",
       "      <td>0.027083</td>\n",
       "    </tr>\n",
       "  </tbody>\n",
       "</table>\n",
       "<p>2280000 rows × 9 columns</p>\n",
       "</div>"
      ],
      "text/plain": [
       "           Halo Snapshot  RadialBin Resolution   Density       ID Status  \\\n",
       "0        850045        0          0          1  0.248233  1021286      1   \n",
       "1        850045        0          1          1  0.458954  1021286      1   \n",
       "2        850045        0          2          1  0.040462  1021286      1   \n",
       "3        850045        0          3          1  0.483019  1021286      1   \n",
       "4        850045        0          4          1  0.443710  1021286      1   \n",
       "...         ...      ...        ...        ...       ...      ...    ...   \n",
       "2279995  740109        2         75          2  0.096223  1919259      0   \n",
       "2279996  740109        2         76          2  0.659574  1919259      0   \n",
       "2279997  740109        2         77          2  0.303761  1919259      0   \n",
       "2279998  740109        2         78          2  0.107028  1919259      0   \n",
       "2279999  740109        2         79          2  0.376159  1919259      0   \n",
       "\n",
       "           Radius      Mass  \n",
       "0        0.399642  0.076698  \n",
       "1        0.399642  0.076698  \n",
       "2        0.399642  0.076698  \n",
       "3        0.399642  0.076698  \n",
       "4        0.399642  0.076698  \n",
       "...           ...       ...  \n",
       "2279995  0.219847  0.027083  \n",
       "2279996  0.219847  0.027083  \n",
       "2279997  0.219847  0.027083  \n",
       "2279998  0.219847  0.027083  \n",
       "2279999  0.219847  0.027083  \n",
       "\n",
       "[2280000 rows x 9 columns]"
      ]
     },
     "execution_count": 2,
     "metadata": {},
     "output_type": "execute_result"
    }
   ],
   "source": [
    "# first we load the dataframe\n",
    "import pandas as pd\n",
    "\n",
    "df = pd.read_csv('example.csv')\n",
    "\n",
    "for col in ['Halo', 'Snapshot', 'Resolution', 'ID', 'Status']:\n",
    "    df[col] = df[col].astype('category')\n",
    "\n",
    "df"
   ]
  },
  {
   "cell_type": "code",
   "execution_count": 3,
   "metadata": {},
   "outputs": [
    {
     "name": "stdout",
     "output_type": "stream",
     "text": [
      "True True\n",
      "creating 3 x 2 data grid - Panel: Halo, Row: Snapshot, Col: Resolution...\n"
     ]
    }
   ],
   "source": [
    "# now lets apply some filters and then create a datagrid\n",
    "\n",
    "fdf = df[(df[\"Mass\"] > 0.97) & (df[\"Radius\"] > 0.96)]\n",
    "from gridfig.data.data_grid import DataGrid\n",
    "\n",
    "# the data we want to save for each object in the datagrid\n",
    "plot_data = [\"RadialBin\", \"Density\", \"ID\", \"Snapshot\", \"Status\", \"Resolution\"]\n",
    "dg = DataGrid.dataFrameToGrid(fdf, \"Halo\", \"Snapshot\", \"Resolution\", plot_data)"
   ]
  },
  {
   "cell_type": "code",
   "execution_count": 6,
   "metadata": {},
   "outputs": [
    {
     "name": "stdout",
     "output_type": "stream",
     "text": [
      "DataGrid with dimensions: 3 x 2\n",
      "Panel Property: Halo, Row Property: Snapshot, Column Property: Resolution\n",
      "\n",
      "Panel at (0, 0): Panel with row_val=1, col_val=1, containing 7 Dataset(s).\n",
      "\tIncludes: 286060, 140785, 145347, 69595, 133041, 711695, 30589\n",
      "Panel at (0, 1): Panel with row_val=1, col_val=2, containing 5 Dataset(s).\n",
      "\tIncludes: 744711, 910354, 813579, 65075, 922126\n",
      "Panel at (1, 0): Panel with row_val=2, col_val=1, containing 7 Dataset(s).\n",
      "\tIncludes: 449581, 487678, 9288, 200404, 349167, 713576, 456416\n",
      "Panel at (1, 1): Panel with row_val=2, col_val=2, containing 5 Dataset(s).\n",
      "\tIncludes: 284710, 311392, 392290, 888024, 901278\n",
      "Panel at (2, 0): Panel with row_val=0, col_val=1, containing 4 Dataset(s).\n",
      "\tIncludes: 311599, 668527, 2649, 579558\n",
      "Panel at (2, 1): Panel with row_val=0, col_val=2, containing 1 Dataset(s).\n",
      "\tIncludes: 397163\n"
     ]
    }
   ],
   "source": [
    "print(dg)"
   ]
  },
  {
   "cell_type": "code",
   "execution_count": 7,
   "metadata": {},
   "outputs": [
    {
     "data": {
      "text/plain": [
       "(3, 2)"
      ]
     },
     "execution_count": 7,
     "metadata": {},
     "output_type": "execute_result"
    }
   ],
   "source": [
    "dg.getShape()"
   ]
  },
  {
   "cell_type": "code",
   "execution_count": 8,
   "metadata": {},
   "outputs": [
    {
     "name": "stdout",
     "output_type": "stream",
     "text": [
      "DataGrid with dimensions: 3 x 2\n",
      "Panel Property: Halo, Row Property: Snapshot, Column Property: Resolution\n",
      "\n",
      "Panel at (0, 0): Panel with row_val=0, col_val=1, containing 4 Dataset(s).\n",
      "\tIncludes: 311599, 668527, 2649, 579558\n",
      "Panel at (0, 1): Panel with row_val=0, col_val=2, containing 1 Dataset(s).\n",
      "\tIncludes: 397163\n",
      "Panel at (1, 0): Panel with row_val=1, col_val=1, containing 7 Dataset(s).\n",
      "\tIncludes: 286060, 140785, 145347, 69595, 133041, 711695, 30589\n",
      "Panel at (1, 1): Panel with row_val=1, col_val=2, containing 5 Dataset(s).\n",
      "\tIncludes: 744711, 910354, 813579, 65075, 922126\n",
      "Panel at (2, 0): Panel with row_val=2, col_val=1, containing 7 Dataset(s).\n",
      "\tIncludes: 449581, 487678, 9288, 200404, 349167, 713576, 456416\n",
      "Panel at (2, 1): Panel with row_val=2, col_val=2, containing 5 Dataset(s).\n",
      "\tIncludes: 284710, 311392, 392290, 888024, 901278\n"
     ]
    }
   ],
   "source": [
    "\n",
    "dg.rowOrder([2,0,1])\n",
    "print(dg)"
   ]
  },
  {
   "cell_type": "code",
   "execution_count": 9,
   "metadata": {},
   "outputs": [
    {
     "name": "stdout",
     "output_type": "stream",
     "text": [
      "DataGrid with dimensions: 3 x 2\n",
      "Panel Property: Halo, Row Property: Snapshot, Column Property: Resolution\n",
      "\n",
      "Panel at (0, 0): Panel with row_val=0, col_val=2, containing 1 Dataset(s).\n",
      "\tIncludes: 397163\n",
      "Panel at (0, 1): Panel with row_val=0, col_val=1, containing 4 Dataset(s).\n",
      "\tIncludes: 311599, 668527, 2649, 579558\n",
      "Panel at (1, 0): Panel with row_val=1, col_val=2, containing 5 Dataset(s).\n",
      "\tIncludes: 744711, 910354, 813579, 65075, 922126\n",
      "Panel at (1, 1): Panel with row_val=1, col_val=1, containing 7 Dataset(s).\n",
      "\tIncludes: 286060, 140785, 145347, 69595, 133041, 711695, 30589\n",
      "Panel at (2, 0): Panel with row_val=2, col_val=2, containing 5 Dataset(s).\n",
      "\tIncludes: 284710, 311392, 392290, 888024, 901278\n",
      "Panel at (2, 1): Panel with row_val=2, col_val=1, containing 7 Dataset(s).\n",
      "\tIncludes: 449581, 487678, 9288, 200404, 349167, 713576, 456416\n"
     ]
    }
   ],
   "source": [
    "dg.colOrder([1, 0])\n",
    "print(dg)"
   ]
  },
  {
   "cell_type": "code",
   "execution_count": null,
   "metadata": {},
   "outputs": [
    {
     "ename": "NameError",
     "evalue": "name 'output' is not defined",
     "output_type": "error",
     "traceback": [
      "\u001b[0;31m---------------------------------------------------------------------------\u001b[0m",
      "\u001b[0;31mNameError\u001b[0m                                 Traceback (most recent call last)",
      "Input \u001b[0;32mIn [5]\u001b[0m, in \u001b[0;36m<cell line: 1>\u001b[0;34m()\u001b[0m\n\u001b[0;32m----> 1\u001b[0m check \u001b[38;5;241m=\u001b[39m \u001b[43moutput\u001b[49m[\u001b[38;5;241m0\u001b[39m,\u001b[38;5;241m0\u001b[39m]\n\u001b[1;32m      2\u001b[0m \u001b[38;5;28mlen\u001b[39m(check)\n\u001b[1;32m      3\u001b[0m \u001b[38;5;28mprint\u001b[39m(check\u001b[38;5;241m.\u001b[39mpanel_prop, check\u001b[38;5;241m.\u001b[39mrow_val, check\u001b[38;5;241m.\u001b[39mcol_val)\n",
      "\u001b[0;31mNameError\u001b[0m: name 'output' is not defined"
     ]
    }
   ],
   "source": []
  },
  {
   "cell_type": "code",
   "execution_count": null,
   "metadata": {},
   "outputs": [],
   "source": []
  }
 ],
 "metadata": {
  "kernelspec": {
   "display_name": "Python 3",
   "language": "python",
   "name": "python3"
  },
  "language_info": {
   "codemirror_mode": {
    "name": "ipython",
    "version": 3
   },
   "file_extension": ".py",
   "mimetype": "text/x-python",
   "name": "python",
   "nbconvert_exporter": "python",
   "pygments_lexer": "ipython3",
   "version": "3.8.9"
  }
 },
 "nbformat": 4,
 "nbformat_minor": 2
}
